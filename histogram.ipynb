{
 "cells": [
  {
   "cell_type": "code",
   "execution_count": 3,
   "metadata": {},
   "outputs": [],
   "source": [
    "import numpy as np\n",
    "import time\n",
    "import datetime\n",
    "import json\n",
    "import pandas as pd\n",
    "\n",
    "import mysql.connector\n",
    "from mysql.connector import Error\n",
    "\n",
    "from bokeh.plotting import *\n",
    "from bokeh.layouts import gridplot\n",
    "from bokeh.models import ColumnDataSource, LogColorMapper, ColorMapper, LogTicker, ColorBar, BasicTicker, ColorBar, LinearColorMapper, PrintfTickFormatter\n",
    "from bokeh.models.widgets import Tabs, Panel\n",
    "# from .chart_constants import (PLOT_FORMATS, ORANGE, BLUE, DARK_GRAY, AXIS_FORMATS, ORANGE_SHADOW, \n",
    "#                              FONT_PROPS_SM, FONT_PROPS_MD, FONT_PROPS_LG, GREEN)\n",
    "from bokeh.io import show, output_notebook\n",
    "import bokeh.palettes as bp\n",
    "from bokeh.models.glyphs import Text\n",
    "# import hail as hl\n",
    "\n",
    "import urllib\n",
    "import matplotlib.pyplot as plt\n",
    "from matplotlib.ticker import (MultipleLocator, FormatStrFormatter, AutoMinorLocator)"
   ]
  },
  {
   "cell_type": "code",
   "execution_count": 4,
   "metadata": {},
   "outputs": [],
   "source": [
    "json_url = urllib.request.urlopen('https://api.helioviewer.org/?action=getDataSources')\n",
    "hv_keys = json.loads(json_url.read())"
   ]
  },
  {
   "cell_type": "code",
   "execution_count": 6,
   "metadata": {
    "scrolled": true
   },
   "outputs": [
    {
     "name": "stdout",
     "output_type": "stream",
     "text": [
      "Total number of rows in data is:  7056352\n",
      "\n",
      "Printing each laptop record\n",
      "MySQL connection is closed 108.46920776367188\n"
     ]
    }
   ],
   "source": [
    "start_time=time.time()\n",
    "try:\n",
    "    connection = mysql.connector.connect(host='localhost',\n",
    "                                         database='hv',\n",
    "                                         user='hv_varun',\n",
    "                                         password='Helioviewer@2020')\n",
    "\n",
    "    sql_select_Query = \"SELECT filepath, date, sourceid FROM data WHERE sourceId=%s;\"%hv_keys['SDO']['AIA']['1600']['sourceId']\n",
    "#     sql_select_Query = \"SELECT count(*) FROM data WHERE filepath LIKE '/AIA/1600/%';\"\n",
    "#     sql_select_Query = \"SELECT * FROM data LIMIT 20;\"\n",
    "    cursor = connection.cursor()\n",
    "    cursor.execute(sql_select_Query)\n",
    "    records = cursor.fetchall()\n",
    "    print(\"Total number of rows in data is: \", cursor.rowcount)\n",
    "\n",
    "    print(\"\\nPrinting each laptop record\")\n",
    "#     for row in records:\n",
    "#         print(\"Index = \", row[0])\n",
    "#         print(\"Location = \", row[1])\n",
    "#         print(\"Filename  = \", row[2])\n",
    "#         print(\"OBS_DATE  = \", row[3], \"\\n\")\n",
    "\n",
    "except Error as e:\n",
    "    print(\"Error reading data from MySQL table\", e)\n",
    "finally:\n",
    "    if (connection.is_connected()):\n",
    "        connection.close()\n",
    "        cursor.close()\n",
    "        print(\"MySQL connection is closed\", time.time()-start_time )"
   ]
  },
  {
   "cell_type": "code",
   "execution_count": 7,
   "metadata": {
    "scrolled": true
   },
   "outputs": [
    {
     "data": {
      "text/html": [
       "<div>\n",
       "<style scoped>\n",
       "    .dataframe tbody tr th:only-of-type {\n",
       "        vertical-align: middle;\n",
       "    }\n",
       "\n",
       "    .dataframe tbody tr th {\n",
       "        vertical-align: top;\n",
       "    }\n",
       "\n",
       "    .dataframe thead th {\n",
       "        text-align: right;\n",
       "    }\n",
       "</style>\n",
       "<table border=\"1\" class=\"dataframe\">\n",
       "  <thead>\n",
       "    <tr style=\"text-align: right;\">\n",
       "      <th></th>\n",
       "      <th>filepath</th>\n",
       "      <th>date</th>\n",
       "      <th>sourceid</th>\n",
       "    </tr>\n",
       "  </thead>\n",
       "  <tbody>\n",
       "    <tr>\n",
       "      <th>0</th>\n",
       "      <td>/AIA/1600/2010/06/02</td>\n",
       "      <td>2010-06-02 00:05:30</td>\n",
       "      <td>15</td>\n",
       "    </tr>\n",
       "    <tr>\n",
       "      <th>1</th>\n",
       "      <td>/AIA/1600/2010/06/02</td>\n",
       "      <td>2010-06-02 00:05:54</td>\n",
       "      <td>15</td>\n",
       "    </tr>\n",
       "    <tr>\n",
       "      <th>2</th>\n",
       "      <td>/AIA/1600/2010/06/02</td>\n",
       "      <td>2010-06-02 00:06:18</td>\n",
       "      <td>15</td>\n",
       "    </tr>\n",
       "    <tr>\n",
       "      <th>3</th>\n",
       "      <td>/AIA/1600/2010/06/23</td>\n",
       "      <td>2010-06-23 00:00:17</td>\n",
       "      <td>15</td>\n",
       "    </tr>\n",
       "    <tr>\n",
       "      <th>4</th>\n",
       "      <td>/AIA/1600/2010/06/23</td>\n",
       "      <td>2010-06-23 00:00:41</td>\n",
       "      <td>15</td>\n",
       "    </tr>\n",
       "    <tr>\n",
       "      <th>...</th>\n",
       "      <td>...</td>\n",
       "      <td>...</td>\n",
       "      <td>...</td>\n",
       "    </tr>\n",
       "    <tr>\n",
       "      <th>7056347</th>\n",
       "      <td>/AIA/2020/08/03/1600</td>\n",
       "      <td>2020-08-03 13:59:26</td>\n",
       "      <td>15</td>\n",
       "    </tr>\n",
       "    <tr>\n",
       "      <th>7056348</th>\n",
       "      <td>/AIA/2020/08/03/1600</td>\n",
       "      <td>2020-08-03 14:00:14</td>\n",
       "      <td>15</td>\n",
       "    </tr>\n",
       "    <tr>\n",
       "      <th>7056349</th>\n",
       "      <td>/AIA/2020/08/03/1600</td>\n",
       "      <td>2020-08-03 14:01:02</td>\n",
       "      <td>15</td>\n",
       "    </tr>\n",
       "    <tr>\n",
       "      <th>7056350</th>\n",
       "      <td>/AIA/2020/08/03/1600</td>\n",
       "      <td>2020-08-03 14:01:50</td>\n",
       "      <td>15</td>\n",
       "    </tr>\n",
       "    <tr>\n",
       "      <th>7056351</th>\n",
       "      <td>/AIA/2020/08/03/1600</td>\n",
       "      <td>2020-08-03 14:02:38</td>\n",
       "      <td>15</td>\n",
       "    </tr>\n",
       "  </tbody>\n",
       "</table>\n",
       "<p>7056352 rows × 3 columns</p>\n",
       "</div>"
      ],
      "text/plain": [
       "                     filepath                date  sourceid\n",
       "0        /AIA/1600/2010/06/02 2010-06-02 00:05:30        15\n",
       "1        /AIA/1600/2010/06/02 2010-06-02 00:05:54        15\n",
       "2        /AIA/1600/2010/06/02 2010-06-02 00:06:18        15\n",
       "3        /AIA/1600/2010/06/23 2010-06-23 00:00:17        15\n",
       "4        /AIA/1600/2010/06/23 2010-06-23 00:00:41        15\n",
       "...                       ...                 ...       ...\n",
       "7056347  /AIA/2020/08/03/1600 2020-08-03 13:59:26        15\n",
       "7056348  /AIA/2020/08/03/1600 2020-08-03 14:00:14        15\n",
       "7056349  /AIA/2020/08/03/1600 2020-08-03 14:01:02        15\n",
       "7056350  /AIA/2020/08/03/1600 2020-08-03 14:01:50        15\n",
       "7056351  /AIA/2020/08/03/1600 2020-08-03 14:02:38        15\n",
       "\n",
       "[7056352 rows x 3 columns]"
      ]
     },
     "execution_count": 7,
     "metadata": {},
     "output_type": "execute_result"
    }
   ],
   "source": [
    "hv = pd.DataFrame(records, columns=cursor.column_names)\n",
    "hv = hv.sort_values('date').reset_index(drop=True)\n",
    "hv"
   ]
  },
  {
   "cell_type": "code",
   "execution_count": 98,
   "metadata": {},
   "outputs": [],
   "source": [
    "day_bins = pd.date_range(hv['date'].min()-pd.DateOffset(days=1), hv['date'].max()+pd.DateOffset(days=1), freq='D').to_period('D').to_timestamp()"
   ]
  },
  {
   "cell_type": "code",
   "execution_count": 99,
   "metadata": {},
   "outputs": [
    {
     "data": {
      "text/plain": [
       "DatetimeIndex(['2010-06-01', '2010-06-02', '2010-06-03', '2010-06-04',\n",
       "               '2010-06-05', '2010-06-06', '2010-06-07', '2010-06-08',\n",
       "               '2010-06-09', '2010-06-10',\n",
       "               ...\n",
       "               '2020-07-26', '2020-07-27', '2020-07-28', '2020-07-29',\n",
       "               '2020-07-30', '2020-07-31', '2020-08-01', '2020-08-02',\n",
       "               '2020-08-03', '2020-08-04'],\n",
       "              dtype='datetime64[ns]', length=3718, freq='D')"
      ]
     },
     "execution_count": 99,
     "metadata": {},
     "output_type": "execute_result"
    }
   ],
   "source": [
    "day_bins"
   ]
  },
  {
   "cell_type": "code",
   "execution_count": 106,
   "metadata": {},
   "outputs": [],
   "source": [
    "counts, bins = np.histogram(hv['date'], bins = day_bins)#.size+1, range=(day_bins[0], day_bins[-1]))\n",
    "hist, edges = np.histogram(counts, bins=range(0,counts.max(),100))"
   ]
  },
  {
   "cell_type": "code",
   "execution_count": 183,
   "metadata": {},
   "outputs": [],
   "source": [
    "from bokeh.models import Span"
   ]
  },
  {
   "cell_type": "code",
   "execution_count": 188,
   "metadata": {
    "scrolled": true
   },
   "outputs": [],
   "source": [
    "def interactive_histogram(df, n_bins, title, x_axis_label, x_tooltip, log=None):\n",
    "    \n",
    "    import pandas as pd\n",
    "    import numpy as np\n",
    "    from bokeh.plotting import figure\n",
    "\n",
    "    from bokeh.io import show, output_notebook\n",
    "    from bokeh.models import ColumnDataSource, HoverTool, CategoricalColorMapper\n",
    "    from bokeh.palettes import Category10_5, Category20_16\n",
    "\n",
    "    arr_hist, edges = np.histogram(df, bins=n_bins)\n",
    "\n",
    "    # Column data source\n",
    "    arr_df = pd.DataFrame({'count': arr_hist, 'left': edges[:-1], 'right': edges[1:]})\n",
    "    total = arr_df['count'].sum()\n",
    "    arr_df['f_count'] = ['%d' % count for count in arr_df['count']]\n",
    "    arr_df['f_percent'] = ['%.2f%%' %(count/total*100) for count in arr_df['count']]\n",
    "    arr_df['f_interval'] = ['%d to %d ' % (left, right) for left, right in zip(arr_df['left'], arr_df['right'])]\n",
    "    # column data source\n",
    "    arr_src = ColumnDataSource(arr_df)\n",
    "    \n",
    "    cumulative_data = np.cumsum(arr_hist)\n",
    "#     cumulative_data = np.append(cumulative_data, cumulative_data[-1])\n",
    "    df_cum = pd.DataFrame({'count_cum': cumulative_data, 'x': np.arange(0,df.max(),100)[1:]})\n",
    "    cum_src = ColumnDataSource(df_cum)\n",
    "        \n",
    "    # Set up the figure same as before\n",
    "    panels = []\n",
    "    for axis_type in [\"linear\", \"log\"]:\n",
    "        p = figure(y_axis_type=axis_type,\n",
    "                   title = title,\n",
    "                   x_axis_label = x_axis_label, \n",
    "                   y_axis_label = 'Day count',\n",
    "                   background_fill_color=\"#fafafa\")\n",
    "        # Add a quad glyph with source this time\n",
    "        r1 = p.quad(bottom=0.95, \n",
    "                   top='count', \n",
    "                   left='left', \n",
    "                   right='right', \n",
    "                   source=arr_src,\n",
    "                   fill_color='navy',\n",
    "                   alpha=0.5,\n",
    "    #                hover_fill_color='navy',\n",
    "                   hover_fill_alpha=0.2,\n",
    "                   line_color='white',\n",
    "                   legend='Histogram')\n",
    "        \n",
    "        # Add style to the plot\n",
    "        p.title.align = 'center'\n",
    "        p.title.text_font_size = '18pt'\n",
    "        p.xaxis.axis_label_text_font_size = '12pt'\n",
    "        p.xaxis.major_label_text_font_size = '12pt'\n",
    "        p.yaxis.axis_label_text_font_size = '12pt'\n",
    "        p.yaxis.major_label_text_font_size = '12pt'\n",
    "        p.grid.grid_line_color=\"white\"\n",
    "        \n",
    "        text_source = ColumnDataSource(dict(x=[2000],y=[1500],text=['Total Day Count = %d'%total]))\n",
    "        glyph = Text(x=\"x\", y=\"y\", text=\"text\", text_color=\"black\")\n",
    "        p.add_glyph(text_source, glyph)\n",
    "        # Add a hover tool referring to the formatted columns\n",
    "        hover = HoverTool(renderers = [r1], tooltips = [(x_tooltip, '@f_interval'),\n",
    "                                                        ('Day count', '@f_count'),\n",
    "                                                        ('Day count percentage', '@f_percent')])\n",
    "\n",
    "        # Add the hover tool to the graph\n",
    "        p.add_tools(hover)\n",
    "        \n",
    "        r2 = p.line(x='x', y='count_cum', line_color='#036564', line_width=1, source=cum_src, hover_line_alpha=0.5, legend=\"Cumulative distribution\")\n",
    "        p.circle(x='x', y='count_cum', line_color='#036564', line_width=3, source=cum_src, legend=\"Cumulative distribution\" )\n",
    "        hover = HoverTool(renderers=[r2], line_policy='nearest', tooltips = [(x_tooltip, '@x'), \n",
    "                                                      ('Cumulative Day count', '@count_cum')])\n",
    "        \n",
    "        p.ray(x=[1800], y=[200], length=0, angle=np.pi)\n",
    "        p.add_layout(Span(location=1800, dimension='height', legend='Expected date file count'))\n",
    "        # Add the hover tool to the graph\n",
    "        p.add_tools(hover)\n",
    "        p.legend.location = \"top_left\"\n",
    "        panel = Panel(child=p, title=axis_type)\n",
    "        panels.append(panel)\n",
    "    tabs = Tabs(tabs=panels)\n",
    "\n",
    "    return tabs"
   ]
  },
  {
   "cell_type": "code",
   "execution_count": 189,
   "metadata": {
    "scrolled": true
   },
   "outputs": [
    {
     "ename": "AttributeError",
     "evalue": "unexpected attribute 'legend' to Span, possible attributes are dimension, js_event_callbacks, js_property_callbacks, level, line_alpha, line_cap, line_color, line_dash, line_dash_offset, line_join, line_width, location, location_units, name, render_mode, subscribed_events, tags, visible, x_range_name or y_range_name",
     "output_type": "error",
     "traceback": [
      "\u001b[0;31m---------------------------------------------------------------------------\u001b[0m",
      "\u001b[0;31mAttributeError\u001b[0m                            Traceback (most recent call last)",
      "\u001b[0;32m<ipython-input-189-d3f30b4bf360>\u001b[0m in \u001b[0;36m<module>\u001b[0;34m\u001b[0m\n\u001b[1;32m      6\u001b[0m \u001b[0mx_axis_label\u001b[0m \u001b[0;34m=\u001b[0m \u001b[0;34m'No. of Data files'\u001b[0m\u001b[0;34m\u001b[0m\u001b[0;34m\u001b[0m\u001b[0m\n\u001b[1;32m      7\u001b[0m \u001b[0mx_tooltip\u001b[0m \u001b[0;34m=\u001b[0m \u001b[0;34m'#Data files'\u001b[0m\u001b[0;34m\u001b[0m\u001b[0;34m\u001b[0m\u001b[0m\n\u001b[0;32m----> 8\u001b[0;31m \u001b[0mbtabs\u001b[0m \u001b[0;34m=\u001b[0m \u001b[0minteractive_histogram\u001b[0m\u001b[0;34m(\u001b[0m\u001b[0mdf\u001b[0m\u001b[0;34m,\u001b[0m\u001b[0mn_bins\u001b[0m\u001b[0;34m,\u001b[0m\u001b[0mtitle\u001b[0m\u001b[0;34m,\u001b[0m\u001b[0mx_axis_label\u001b[0m\u001b[0;34m,\u001b[0m\u001b[0mx_tooltip\u001b[0m\u001b[0;34m,\u001b[0m\u001b[0mlog\u001b[0m\u001b[0;34m=\u001b[0m\u001b[0;34m'log'\u001b[0m\u001b[0;34m)\u001b[0m\u001b[0;34m\u001b[0m\u001b[0;34m\u001b[0m\u001b[0m\n\u001b[0m\u001b[1;32m      9\u001b[0m \u001b[0mshow\u001b[0m\u001b[0;34m(\u001b[0m\u001b[0mbtabs\u001b[0m\u001b[0;34m)\u001b[0m\u001b[0;34m\u001b[0m\u001b[0;34m\u001b[0m\u001b[0m\n",
      "\u001b[0;32m<ipython-input-188-70ed5b643bef>\u001b[0m in \u001b[0;36minteractive_histogram\u001b[0;34m(df, n_bins, title, x_axis_label, x_tooltip, log)\u001b[0m\n\u001b[1;32m     72\u001b[0m \u001b[0;34m\u001b[0m\u001b[0m\n\u001b[1;32m     73\u001b[0m         \u001b[0mp\u001b[0m\u001b[0;34m.\u001b[0m\u001b[0mray\u001b[0m\u001b[0;34m(\u001b[0m\u001b[0mx\u001b[0m\u001b[0;34m=\u001b[0m\u001b[0;34m[\u001b[0m\u001b[0;36m1800\u001b[0m\u001b[0;34m]\u001b[0m\u001b[0;34m,\u001b[0m \u001b[0my\u001b[0m\u001b[0;34m=\u001b[0m\u001b[0;34m[\u001b[0m\u001b[0;36m200\u001b[0m\u001b[0;34m]\u001b[0m\u001b[0;34m,\u001b[0m \u001b[0mlength\u001b[0m\u001b[0;34m=\u001b[0m\u001b[0;36m0\u001b[0m\u001b[0;34m,\u001b[0m \u001b[0mangle\u001b[0m\u001b[0;34m=\u001b[0m\u001b[0mnp\u001b[0m\u001b[0;34m.\u001b[0m\u001b[0mpi\u001b[0m\u001b[0;34m)\u001b[0m\u001b[0;34m\u001b[0m\u001b[0;34m\u001b[0m\u001b[0m\n\u001b[0;32m---> 74\u001b[0;31m         \u001b[0mp\u001b[0m\u001b[0;34m.\u001b[0m\u001b[0madd_layout\u001b[0m\u001b[0;34m(\u001b[0m\u001b[0mSpan\u001b[0m\u001b[0;34m(\u001b[0m\u001b[0mlocation\u001b[0m\u001b[0;34m=\u001b[0m\u001b[0;36m1800\u001b[0m\u001b[0;34m,\u001b[0m \u001b[0mdimension\u001b[0m\u001b[0;34m=\u001b[0m\u001b[0;34m'height'\u001b[0m\u001b[0;34m,\u001b[0m \u001b[0mlegend\u001b[0m\u001b[0;34m=\u001b[0m\u001b[0;34m'Expected date file count'\u001b[0m\u001b[0;34m)\u001b[0m\u001b[0;34m)\u001b[0m\u001b[0;34m\u001b[0m\u001b[0;34m\u001b[0m\u001b[0m\n\u001b[0m\u001b[1;32m     75\u001b[0m         \u001b[0;31m# Add the hover tool to the graph\u001b[0m\u001b[0;34m\u001b[0m\u001b[0;34m\u001b[0m\u001b[0;34m\u001b[0m\u001b[0m\n\u001b[1;32m     76\u001b[0m         \u001b[0mp\u001b[0m\u001b[0;34m.\u001b[0m\u001b[0madd_tools\u001b[0m\u001b[0;34m(\u001b[0m\u001b[0mhover\u001b[0m\u001b[0;34m)\u001b[0m\u001b[0;34m\u001b[0m\u001b[0;34m\u001b[0m\u001b[0m\n",
      "\u001b[0;32m~/anaconda3/lib/python3.7/site-packages/bokeh/model.py\u001b[0m in \u001b[0;36m__init__\u001b[0;34m(self, **kwargs)\u001b[0m\n\u001b[1;32m    305\u001b[0m         \u001b[0mkwargs\u001b[0m\u001b[0;34m.\u001b[0m\u001b[0mpop\u001b[0m\u001b[0;34m(\u001b[0m\u001b[0;34m\"id\"\u001b[0m\u001b[0;34m,\u001b[0m \u001b[0;32mNone\u001b[0m\u001b[0;34m)\u001b[0m\u001b[0;34m\u001b[0m\u001b[0;34m\u001b[0m\u001b[0m\n\u001b[1;32m    306\u001b[0m \u001b[0;34m\u001b[0m\u001b[0m\n\u001b[0;32m--> 307\u001b[0;31m         \u001b[0msuper\u001b[0m\u001b[0;34m(\u001b[0m\u001b[0mModel\u001b[0m\u001b[0;34m,\u001b[0m \u001b[0mself\u001b[0m\u001b[0;34m)\u001b[0m\u001b[0;34m.\u001b[0m\u001b[0m__init__\u001b[0m\u001b[0;34m(\u001b[0m\u001b[0;34m**\u001b[0m\u001b[0mkwargs\u001b[0m\u001b[0;34m)\u001b[0m\u001b[0;34m\u001b[0m\u001b[0;34m\u001b[0m\u001b[0m\n\u001b[0m\u001b[1;32m    308\u001b[0m         \u001b[0mdefault_theme\u001b[0m\u001b[0;34m.\u001b[0m\u001b[0mapply_to_model\u001b[0m\u001b[0;34m(\u001b[0m\u001b[0mself\u001b[0m\u001b[0;34m)\u001b[0m\u001b[0;34m\u001b[0m\u001b[0;34m\u001b[0m\u001b[0m\n\u001b[1;32m    309\u001b[0m \u001b[0;34m\u001b[0m\u001b[0m\n",
      "\u001b[0;32m~/anaconda3/lib/python3.7/site-packages/bokeh/core/has_props.py\u001b[0m in \u001b[0;36m__init__\u001b[0;34m(self, **properties)\u001b[0m\n\u001b[1;32m    251\u001b[0m \u001b[0;34m\u001b[0m\u001b[0m\n\u001b[1;32m    252\u001b[0m         \u001b[0;32mfor\u001b[0m \u001b[0mname\u001b[0m\u001b[0;34m,\u001b[0m \u001b[0mvalue\u001b[0m \u001b[0;32min\u001b[0m \u001b[0mproperties\u001b[0m\u001b[0;34m.\u001b[0m\u001b[0mitems\u001b[0m\u001b[0;34m(\u001b[0m\u001b[0;34m)\u001b[0m\u001b[0;34m:\u001b[0m\u001b[0;34m\u001b[0m\u001b[0;34m\u001b[0m\u001b[0m\n\u001b[0;32m--> 253\u001b[0;31m             \u001b[0msetattr\u001b[0m\u001b[0;34m(\u001b[0m\u001b[0mself\u001b[0m\u001b[0;34m,\u001b[0m \u001b[0mname\u001b[0m\u001b[0;34m,\u001b[0m \u001b[0mvalue\u001b[0m\u001b[0;34m)\u001b[0m\u001b[0;34m\u001b[0m\u001b[0;34m\u001b[0m\u001b[0m\n\u001b[0m\u001b[1;32m    254\u001b[0m \u001b[0;34m\u001b[0m\u001b[0m\n\u001b[1;32m    255\u001b[0m     \u001b[0;32mdef\u001b[0m \u001b[0m__setattr__\u001b[0m\u001b[0;34m(\u001b[0m\u001b[0mself\u001b[0m\u001b[0;34m,\u001b[0m \u001b[0mname\u001b[0m\u001b[0;34m,\u001b[0m \u001b[0mvalue\u001b[0m\u001b[0;34m)\u001b[0m\u001b[0;34m:\u001b[0m\u001b[0;34m\u001b[0m\u001b[0;34m\u001b[0m\u001b[0m\n",
      "\u001b[0;32m~/anaconda3/lib/python3.7/site-packages/bokeh/core/has_props.py\u001b[0m in \u001b[0;36m__setattr__\u001b[0;34m(self, name, value)\u001b[0m\n\u001b[1;32m    286\u001b[0m \u001b[0;34m\u001b[0m\u001b[0m\n\u001b[1;32m    287\u001b[0m             raise AttributeError(\"unexpected attribute '%s' to %s, %s attributes are %s\" %\n\u001b[0;32m--> 288\u001b[0;31m                 (name, self.__class__.__name__, text, nice_join(matches)))\n\u001b[0m\u001b[1;32m    289\u001b[0m \u001b[0;34m\u001b[0m\u001b[0m\n\u001b[1;32m    290\u001b[0m     \u001b[0;32mdef\u001b[0m \u001b[0m__str__\u001b[0m\u001b[0;34m(\u001b[0m\u001b[0mself\u001b[0m\u001b[0;34m)\u001b[0m\u001b[0;34m:\u001b[0m\u001b[0;34m\u001b[0m\u001b[0;34m\u001b[0m\u001b[0m\n",
      "\u001b[0;31mAttributeError\u001b[0m: unexpected attribute 'legend' to Span, possible attributes are dimension, js_event_callbacks, js_property_callbacks, level, line_alpha, line_cap, line_color, line_dash, line_dash_offset, line_join, line_width, location, location_units, name, render_mode, subscribed_events, tags, visible, x_range_name or y_range_name"
     ]
    }
   ],
   "source": [
    "output_file('AIA1600_histogram.html')\n",
    "\n",
    "df = counts\n",
    "n_bins = range(0,counts.max(),100)\n",
    "title = 'Histogram for AIA 1600'\n",
    "x_axis_label = 'No. of Data files'\n",
    "x_tooltip = '#Data files'\n",
    "btabs = interactive_histogram(df,n_bins,title,x_axis_label,x_tooltip,log='log')\n",
    "show(btabs)"
   ]
  },
  {
   "cell_type": "code",
   "execution_count": 115,
   "metadata": {},
   "outputs": [
    {
     "data": {
      "text/plain": [
       "1260"
      ]
     },
     "execution_count": 115,
     "metadata": {},
     "output_type": "execute_result"
    }
   ],
   "source": [
    "(counts<1800).sum()"
   ]
  },
  {
   "cell_type": "code",
   "execution_count": 118,
   "metadata": {},
   "outputs": [],
   "source": [
    "arr_hist, edges = np.histogram(counts, bins=n_bins)"
   ]
  },
  {
   "cell_type": "code",
   "execution_count": 120,
   "metadata": {},
   "outputs": [
    {
     "data": {
      "text/plain": [
       "(array([  84,    1,    1,    4,    3,    7,    3,    6,    8,   11,    5,\n",
       "           4,    9,   15,   13,   19,   73,  994, 1598,   16,   18,   34,\n",
       "          71,  364,  174,  109,   30,    6,    3,    6,    2,    6,    7,\n",
       "           2,    2]),\n",
       " array([   0,  100,  200,  300,  400,  500,  600,  700,  800,  900, 1000,\n",
       "        1100, 1200, 1300, 1400, 1500, 1600, 1700, 1800, 1900, 2000, 2100,\n",
       "        2200, 2300, 2400, 2500, 2600, 2700, 2800, 2900, 3000, 3100, 3200,\n",
       "        3300, 3400, 3500]))"
      ]
     },
     "execution_count": 120,
     "metadata": {},
     "output_type": "execute_result"
    }
   ],
   "source": [
    "arr_hist, edges"
   ]
  },
  {
   "cell_type": "code",
   "execution_count": 124,
   "metadata": {},
   "outputs": [
    {
     "data": {
      "text/plain": [
       "84"
      ]
     },
     "execution_count": 124,
     "metadata": {},
     "output_type": "execute_result"
    }
   ],
   "source": [
    "(counts<100).sum()"
   ]
  }
 ],
 "metadata": {
  "kernelspec": {
   "display_name": "Python 3",
   "language": "python",
   "name": "python3"
  },
  "language_info": {
   "codemirror_mode": {
    "name": "ipython",
    "version": 3
   },
   "file_extension": ".py",
   "mimetype": "text/x-python",
   "name": "python",
   "nbconvert_exporter": "python",
   "pygments_lexer": "ipython3",
   "version": "3.7.4"
  }
 },
 "nbformat": 4,
 "nbformat_minor": 4
}
