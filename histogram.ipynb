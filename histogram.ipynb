{
 "cells": [
  {
   "cell_type": "code",
   "execution_count": 1,
   "metadata": {},
   "outputs": [],
   "source": [
    "import numpy as np\n",
    "import time\n",
    "import datetime\n",
    "import json\n",
    "import pandas as pd\n",
    "\n",
    "import mysql.connector\n",
    "from mysql.connector import Error\n",
    "\n",
    "from bokeh.plotting import *\n",
    "from bokeh.layouts import gridplot\n",
    "from bokeh.models import ColumnDataSource, LogColorMapper, ColorMapper, LogTicker, ColorBar, BasicTicker, ColorBar, LinearColorMapper, PrintfTickFormatter\n",
    "from bokeh.models.widgets import Tabs, Panel\n",
    "# from .chart_constants import (PLOT_FORMATS, ORANGE, BLUE, DARK_GRAY, AXIS_FORMATS, ORANGE_SHADOW, \n",
    "#                              FONT_PROPS_SM, FONT_PROPS_MD, FONT_PROPS_LG, GREEN)\n",
    "from bokeh.io import show, output_notebook\n",
    "import bokeh.palettes as bp\n",
    "\n",
    "import urllib\n",
    "import matplotlib.pyplot as plt\n",
    "from matplotlib.ticker import (MultipleLocator, FormatStrFormatter, AutoMinorLocator)"
   ]
  },
  {
   "cell_type": "code",
   "execution_count": 2,
   "metadata": {},
   "outputs": [],
   "source": [
    "json_url = urllib.request.urlopen('https://api.helioviewer.org/?action=getDataSources')\n",
    "hv_keys = json.loads(json_url.read())"
   ]
  },
  {
   "cell_type": "code",
   "execution_count": 3,
   "metadata": {
    "scrolled": true
   },
   "outputs": [
    {
     "name": "stdout",
     "output_type": "stream",
     "text": [
      "Total number of rows in data is:  7056352\n",
      "\n",
      "Printing each laptop record\n",
      "MySQL connection is closed 192.19297242164612\n"
     ]
    }
   ],
   "source": [
    "start_time=time.time()\n",
    "try:\n",
    "    connection = mysql.connector.connect(host='localhost',\n",
    "                                         database='hv',\n",
    "                                         user='hv_varun',\n",
    "                                         password='Helioviewer@2020')\n",
    "\n",
    "    sql_select_Query = \"SELECT filepath, date, sourceid FROM data WHERE sourceId=%s;\"%hv_keys['SDO']['AIA']['1600']['sourceId']\n",
    "#     sql_select_Query = \"SELECT count(*) FROM data WHERE filepath LIKE '/AIA/1600/%';\"\n",
    "#     sql_select_Query = \"SELECT * FROM data LIMIT 20;\"\n",
    "    cursor = connection.cursor()\n",
    "    cursor.execute(sql_select_Query)\n",
    "    records = cursor.fetchall()\n",
    "    print(\"Total number of rows in data is: \", cursor.rowcount)\n",
    "\n",
    "    print(\"\\nPrinting each laptop record\")\n",
    "#     for row in records:\n",
    "#         print(\"Index = \", row[0])\n",
    "#         print(\"Location = \", row[1])\n",
    "#         print(\"Filename  = \", row[2])\n",
    "#         print(\"OBS_DATE  = \", row[3], \"\\n\")\n",
    "\n",
    "except Error as e:\n",
    "    print(\"Error reading data from MySQL table\", e)\n",
    "finally:\n",
    "    if (connection.is_connected()):\n",
    "        connection.close()\n",
    "        cursor.close()\n",
    "        print(\"MySQL connection is closed\", time.time()-start_time )"
   ]
  },
  {
   "cell_type": "code",
   "execution_count": 4,
   "metadata": {
    "scrolled": true
   },
   "outputs": [
    {
     "data": {
      "text/html": [
       "<div>\n",
       "<style scoped>\n",
       "    .dataframe tbody tr th:only-of-type {\n",
       "        vertical-align: middle;\n",
       "    }\n",
       "\n",
       "    .dataframe tbody tr th {\n",
       "        vertical-align: top;\n",
       "    }\n",
       "\n",
       "    .dataframe thead th {\n",
       "        text-align: right;\n",
       "    }\n",
       "</style>\n",
       "<table border=\"1\" class=\"dataframe\">\n",
       "  <thead>\n",
       "    <tr style=\"text-align: right;\">\n",
       "      <th></th>\n",
       "      <th>filepath</th>\n",
       "      <th>date</th>\n",
       "      <th>sourceid</th>\n",
       "    </tr>\n",
       "  </thead>\n",
       "  <tbody>\n",
       "    <tr>\n",
       "      <th>0</th>\n",
       "      <td>/AIA/1600/2010/06/02</td>\n",
       "      <td>2010-06-02 00:05:30</td>\n",
       "      <td>15</td>\n",
       "    </tr>\n",
       "    <tr>\n",
       "      <th>1</th>\n",
       "      <td>/AIA/1600/2010/06/02</td>\n",
       "      <td>2010-06-02 00:05:54</td>\n",
       "      <td>15</td>\n",
       "    </tr>\n",
       "    <tr>\n",
       "      <th>2</th>\n",
       "      <td>/AIA/1600/2010/06/02</td>\n",
       "      <td>2010-06-02 00:06:18</td>\n",
       "      <td>15</td>\n",
       "    </tr>\n",
       "    <tr>\n",
       "      <th>3</th>\n",
       "      <td>/AIA/1600/2010/06/23</td>\n",
       "      <td>2010-06-23 00:00:17</td>\n",
       "      <td>15</td>\n",
       "    </tr>\n",
       "    <tr>\n",
       "      <th>4</th>\n",
       "      <td>/AIA/1600/2010/06/23</td>\n",
       "      <td>2010-06-23 00:00:41</td>\n",
       "      <td>15</td>\n",
       "    </tr>\n",
       "    <tr>\n",
       "      <th>...</th>\n",
       "      <td>...</td>\n",
       "      <td>...</td>\n",
       "      <td>...</td>\n",
       "    </tr>\n",
       "    <tr>\n",
       "      <th>7056347</th>\n",
       "      <td>/AIA/2020/08/03/1600</td>\n",
       "      <td>2020-08-03 13:59:26</td>\n",
       "      <td>15</td>\n",
       "    </tr>\n",
       "    <tr>\n",
       "      <th>7056348</th>\n",
       "      <td>/AIA/2020/08/03/1600</td>\n",
       "      <td>2020-08-03 14:00:14</td>\n",
       "      <td>15</td>\n",
       "    </tr>\n",
       "    <tr>\n",
       "      <th>7056349</th>\n",
       "      <td>/AIA/2020/08/03/1600</td>\n",
       "      <td>2020-08-03 14:01:02</td>\n",
       "      <td>15</td>\n",
       "    </tr>\n",
       "    <tr>\n",
       "      <th>7056350</th>\n",
       "      <td>/AIA/2020/08/03/1600</td>\n",
       "      <td>2020-08-03 14:01:50</td>\n",
       "      <td>15</td>\n",
       "    </tr>\n",
       "    <tr>\n",
       "      <th>7056351</th>\n",
       "      <td>/AIA/2020/08/03/1600</td>\n",
       "      <td>2020-08-03 14:02:38</td>\n",
       "      <td>15</td>\n",
       "    </tr>\n",
       "  </tbody>\n",
       "</table>\n",
       "<p>7056352 rows × 3 columns</p>\n",
       "</div>"
      ],
      "text/plain": [
       "                     filepath                date  sourceid\n",
       "0        /AIA/1600/2010/06/02 2010-06-02 00:05:30        15\n",
       "1        /AIA/1600/2010/06/02 2010-06-02 00:05:54        15\n",
       "2        /AIA/1600/2010/06/02 2010-06-02 00:06:18        15\n",
       "3        /AIA/1600/2010/06/23 2010-06-23 00:00:17        15\n",
       "4        /AIA/1600/2010/06/23 2010-06-23 00:00:41        15\n",
       "...                       ...                 ...       ...\n",
       "7056347  /AIA/2020/08/03/1600 2020-08-03 13:59:26        15\n",
       "7056348  /AIA/2020/08/03/1600 2020-08-03 14:00:14        15\n",
       "7056349  /AIA/2020/08/03/1600 2020-08-03 14:01:02        15\n",
       "7056350  /AIA/2020/08/03/1600 2020-08-03 14:01:50        15\n",
       "7056351  /AIA/2020/08/03/1600 2020-08-03 14:02:38        15\n",
       "\n",
       "[7056352 rows x 3 columns]"
      ]
     },
     "execution_count": 4,
     "metadata": {},
     "output_type": "execute_result"
    }
   ],
   "source": [
    "hv = pd.DataFrame(records, columns=cursor.column_names)\n",
    "hv = hv.sort_values('date').reset_index(drop=True)\n",
    "hv"
   ]
  },
  {
   "cell_type": "code",
   "execution_count": 5,
   "metadata": {},
   "outputs": [],
   "source": [
    "day_bins = pd.date_range(hv['date'].min().replace(day=1)-pd.DateOffset(days=1), hv['date'].max().replace(day=1)+pd.DateOffset(months=1), freq='D').to_period('D').to_timestamp()"
   ]
  },
  {
   "cell_type": "code",
   "execution_count": 6,
   "metadata": {
    "scrolled": true
   },
   "outputs": [],
   "source": [
    "counts, bins = np.histogram(hv['date'], bins = day_bins)#.size+1, range=(day_bins[0], day_bins[-1]))"
   ]
  },
  {
   "cell_type": "code",
   "execution_count": 106,
   "metadata": {},
   "outputs": [
    {
     "data": {
      "text/plain": [
       "184"
      ]
     },
     "execution_count": 106,
     "metadata": {},
     "output_type": "execute_result"
    }
   ],
   "source": [
    "counts[510]"
   ]
  },
  {
   "cell_type": "code",
   "execution_count": 107,
   "metadata": {},
   "outputs": [
    {
     "data": {
      "text/plain": [
       "array([[510],\n",
       "       [672]])"
      ]
     },
     "execution_count": 107,
     "metadata": {},
     "output_type": "execute_result"
    }
   ],
   "source": [
    "np.argwhere(((counts>100)&(counts<300)))"
   ]
  },
  {
   "cell_type": "code",
   "execution_count": 119,
   "metadata": {
    "scrolled": false
   },
   "outputs": [
    {
     "data": {
      "text/html": [
       "\n",
       "\n",
       "\n",
       "\n",
       "\n",
       "\n",
       "  <div class=\"bk-root\" id=\"cb05507f-7a9e-4d7f-813d-311238179f11\" data-root-id=\"24875\"></div>\n"
      ]
     },
     "metadata": {},
     "output_type": "display_data"
    },
    {
     "data": {
      "application/javascript": [
       "(function(root) {\n",
       "  function embed_document(root) {\n",
       "    \n",
       "  var docs_json = {\"2d5305b1-9e3d-4d35-b03f-623a0eeb4915\":{\"roots\":{\"references\":[{\"attributes\":{\"tabs\":[{\"id\":\"24832\"},{\"id\":\"24874\"}]},\"id\":\"24875\",\"type\":\"Tabs\"},{\"attributes\":{},\"id\":\"24815\",\"type\":\"HelpTool\"},{\"attributes\":{},\"id\":\"24853\",\"type\":\"WheelZoomTool\"},{\"attributes\":{},\"id\":\"24836\",\"type\":\"DataRange1d\"},{\"attributes\":{\"overlay\":{\"id\":\"24858\"}},\"id\":\"24854\",\"type\":\"BoxZoomTool\"},{\"attributes\":{\"axis_label\":\"No. of Data files\",\"axis_label_text_font_size\":\"12pt\",\"formatter\":{\"id\":\"25382\"},\"major_label_text_font_size\":\"12pt\",\"ticker\":{\"id\":\"24803\"}},\"id\":\"24802\",\"type\":\"LinearAxis\"},{\"attributes\":{},\"id\":\"24855\",\"type\":\"SaveTool\"},{\"attributes\":{\"axis\":{\"id\":\"24806\"},\"dimension\":1,\"grid_line_color\":\"white\",\"ticker\":null},\"id\":\"24809\",\"type\":\"Grid\"},{\"attributes\":{},\"id\":\"24840\",\"type\":\"LinearScale\"},{\"attributes\":{},\"id\":\"24803\",\"type\":\"BasicTicker\"},{\"attributes\":{},\"id\":\"24856\",\"type\":\"ResetTool\"},{\"attributes\":{\"background_fill_color\":\"#fafafa\",\"below\":[{\"id\":\"24802\"}],\"center\":[{\"id\":\"24805\"},{\"id\":\"24809\"}],\"left\":[{\"id\":\"24806\"}],\"renderers\":[{\"id\":\"24828\"}],\"title\":{\"id\":\"24792\"},\"toolbar\":{\"id\":\"24817\"},\"x_range\":{\"id\":\"24794\"},\"x_scale\":{\"id\":\"24798\"},\"y_range\":{\"id\":\"24796\"},\"y_scale\":{\"id\":\"24800\"}},\"id\":\"24791\",\"subtype\":\"Figure\",\"type\":\"Plot\"},{\"attributes\":{\"axis\":{\"id\":\"24802\"},\"grid_line_color\":\"white\",\"ticker\":null},\"id\":\"24805\",\"type\":\"Grid\"},{\"attributes\":{\"data_source\":{\"id\":\"24790\"},\"glyph\":{\"id\":\"24867\"},\"hover_glyph\":{\"id\":\"24869\"},\"muted_glyph\":null,\"nonselection_glyph\":{\"id\":\"24868\"},\"selection_glyph\":null,\"view\":{\"id\":\"24871\"}},\"id\":\"24870\",\"type\":\"GlyphRenderer\"},{\"attributes\":{},\"id\":\"24838\",\"type\":\"DataRange1d\"},{\"attributes\":{},\"id\":\"24857\",\"type\":\"HelpTool\"},{\"attributes\":{},\"id\":\"24807\",\"type\":\"BasicTicker\"},{\"attributes\":{\"axis_label\":\"Count\",\"axis_label_text_font_size\":\"12pt\",\"formatter\":{\"id\":\"25384\"},\"major_label_text_font_size\":\"12pt\",\"ticker\":{\"id\":\"24807\"}},\"id\":\"24806\",\"type\":\"LinearAxis\"},{\"attributes\":{},\"id\":\"24842\",\"type\":\"LogScale\"},{\"attributes\":{\"align\":\"center\",\"text\":\"Histogram for AIA 1600\",\"text_font_size\":{\"value\":\"18pt\"}},\"id\":\"24792\",\"type\":\"Title\"},{\"attributes\":{},\"id\":\"24800\",\"type\":\"LinearScale\"},{\"attributes\":{\"axis_label\":\"No. of Data files\",\"axis_label_text_font_size\":\"12pt\",\"formatter\":{\"id\":\"25386\"},\"major_label_text_font_size\":\"12pt\",\"ticker\":{\"id\":\"24845\"}},\"id\":\"24844\",\"type\":\"LinearAxis\"},{\"attributes\":{\"data\":{\"count\":[113,1,1,4,3,7,3,6,8,11,5,4,9,15,13,19,73,994,1598,16,18,34,71,364,174,109,30,6,3,6,2,6,7,2,2],\"f_count\":[\"113\",\"1\",\"1\",\"4\",\"3\",\"7\",\"3\",\"6\",\"8\",\"11\",\"5\",\"4\",\"9\",\"15\",\"13\",\"19\",\"73\",\"994\",\"1598\",\"16\",\"18\",\"34\",\"71\",\"364\",\"174\",\"109\",\"30\",\"6\",\"3\",\"6\",\"2\",\"6\",\"7\",\"2\",\"2\"],\"f_interval\":[\"0 to 100 \",\"100 to 200 \",\"200 to 300 \",\"300 to 400 \",\"400 to 500 \",\"500 to 600 \",\"600 to 700 \",\"700 to 800 \",\"800 to 900 \",\"900 to 1000 \",\"1000 to 1100 \",\"1100 to 1200 \",\"1200 to 1300 \",\"1300 to 1400 \",\"1400 to 1500 \",\"1500 to 1600 \",\"1600 to 1700 \",\"1700 to 1800 \",\"1800 to 1900 \",\"1900 to 2000 \",\"2000 to 2100 \",\"2100 to 2200 \",\"2200 to 2300 \",\"2300 to 2400 \",\"2400 to 2500 \",\"2500 to 2600 \",\"2600 to 2700 \",\"2700 to 2800 \",\"2800 to 2900 \",\"2900 to 3000 \",\"3000 to 3100 \",\"3100 to 3200 \",\"3200 to 3300 \",\"3300 to 3400 \",\"3400 to 3500 \"],\"f_percent\":[\"3.02%\",\"0.03%\",\"0.03%\",\"0.11%\",\"0.08%\",\"0.19%\",\"0.08%\",\"0.16%\",\"0.21%\",\"0.29%\",\"0.13%\",\"0.11%\",\"0.24%\",\"0.40%\",\"0.35%\",\"0.51%\",\"1.95%\",\"26.60%\",\"42.76%\",\"0.43%\",\"0.48%\",\"0.91%\",\"1.90%\",\"9.74%\",\"4.66%\",\"2.92%\",\"0.80%\",\"0.16%\",\"0.08%\",\"0.16%\",\"0.05%\",\"0.16%\",\"0.19%\",\"0.05%\",\"0.05%\"],\"index\":[0,1,2,3,4,5,6,7,8,9,10,11,12,13,14,15,16,17,18,19,20,21,22,23,24,25,26,27,28,29,30,31,32,33,34],\"left\":[0,100,200,300,400,500,600,700,800,900,1000,1100,1200,1300,1400,1500,1600,1700,1800,1900,2000,2100,2200,2300,2400,2500,2600,2700,2800,2900,3000,3100,3200,3300,3400],\"right\":[100,200,300,400,500,600,700,800,900,1000,1100,1200,1300,1400,1500,1600,1700,1800,1900,2000,2100,2200,2300,2400,2500,2600,2700,2800,2900,3000,3100,3200,3300,3400,3500]},\"selected\":{\"id\":\"25390\"},\"selection_policy\":{\"id\":\"25391\"}},\"id\":\"24790\",\"type\":\"ColumnDataSource\"},{\"attributes\":{\"axis\":{\"id\":\"24848\"},\"dimension\":1,\"grid_line_color\":\"white\",\"ticker\":null},\"id\":\"24851\",\"type\":\"Grid\"},{\"attributes\":{},\"id\":\"25386\",\"type\":\"BasicTickFormatter\"},{\"attributes\":{},\"id\":\"25391\",\"type\":\"UnionRenderers\"},{\"attributes\":{},\"id\":\"24845\",\"type\":\"BasicTicker\"},{\"attributes\":{\"data_source\":{\"id\":\"24790\"},\"glyph\":{\"id\":\"24825\"},\"hover_glyph\":{\"id\":\"24827\"},\"muted_glyph\":null,\"nonselection_glyph\":{\"id\":\"24826\"},\"selection_glyph\":null,\"view\":{\"id\":\"24829\"}},\"id\":\"24828\",\"type\":\"GlyphRenderer\"},{\"attributes\":{\"axis\":{\"id\":\"24844\"},\"grid_line_color\":\"white\",\"ticker\":null},\"id\":\"24847\",\"type\":\"Grid\"},{\"attributes\":{},\"id\":\"25382\",\"type\":\"BasicTickFormatter\"},{\"attributes\":{\"source\":{\"id\":\"24790\"}},\"id\":\"24829\",\"type\":\"CDSView\"},{\"attributes\":{\"bottom_units\":\"screen\",\"fill_alpha\":0.5,\"fill_color\":\"lightgrey\",\"left_units\":\"screen\",\"level\":\"overlay\",\"line_alpha\":1.0,\"line_color\":\"black\",\"line_dash\":[4,4],\"line_width\":2,\"right_units\":\"screen\",\"top_units\":\"screen\"},\"id\":\"24816\",\"type\":\"BoxAnnotation\"},{\"attributes\":{\"active_drag\":\"auto\",\"active_inspect\":\"auto\",\"active_multi\":null,\"active_scroll\":\"auto\",\"active_tap\":\"auto\",\"tools\":[{\"id\":\"24810\"},{\"id\":\"24811\"},{\"id\":\"24812\"},{\"id\":\"24813\"},{\"id\":\"24814\"},{\"id\":\"24815\"},{\"id\":\"24830\"}]},\"id\":\"24817\",\"type\":\"Toolbar\"},{\"attributes\":{},\"id\":\"25384\",\"type\":\"BasicTickFormatter\"},{\"attributes\":{\"num_minor_ticks\":10},\"id\":\"24849\",\"type\":\"LogTicker\"},{\"attributes\":{\"child\":{\"id\":\"24791\"},\"title\":\"linear\"},\"id\":\"24832\",\"type\":\"Panel\"},{\"attributes\":{\"axis_label\":\"Count\",\"axis_label_text_font_size\":\"12pt\",\"formatter\":{\"id\":\"25388\"},\"major_label_text_font_size\":\"12pt\",\"ticker\":{\"id\":\"24849\"}},\"id\":\"24848\",\"type\":\"LogAxis\"},{\"attributes\":{\"bottom\":{\"value\":0.95},\"fill_alpha\":{\"value\":0.1},\"fill_color\":{\"value\":\"navy\"},\"left\":{\"field\":\"left\"},\"line_alpha\":{\"value\":0.1},\"line_color\":{\"value\":\"white\"},\"right\":{\"field\":\"right\"},\"top\":{\"field\":\"count\"}},\"id\":\"24826\",\"type\":\"Quad\"},{\"attributes\":{\"align\":\"center\",\"text\":\"Histogram for AIA 1600\",\"text_font_size\":{\"value\":\"18pt\"}},\"id\":\"24834\",\"type\":\"Title\"},{\"attributes\":{},\"id\":\"24810\",\"type\":\"PanTool\"},{\"attributes\":{\"bottom\":{\"value\":0.95},\"fill_alpha\":{\"value\":0.2},\"fill_color\":{\"value\":\"navy\"},\"left\":{\"field\":\"left\"},\"line_alpha\":{\"value\":0.5},\"line_color\":{\"value\":\"white\"},\"right\":{\"field\":\"right\"},\"top\":{\"field\":\"count\"}},\"id\":\"24827\",\"type\":\"Quad\"},{\"attributes\":{\"bottom\":{\"value\":0.95},\"fill_alpha\":{\"value\":0.5},\"fill_color\":{\"value\":\"navy\"},\"left\":{\"field\":\"left\"},\"line_alpha\":{\"value\":0.5},\"line_color\":{\"value\":\"white\"},\"right\":{\"field\":\"right\"},\"top\":{\"field\":\"count\"}},\"id\":\"24825\",\"type\":\"Quad\"},{\"attributes\":{\"ticker\":null},\"id\":\"25388\",\"type\":\"LogTickFormatter\"},{\"attributes\":{\"bottom\":{\"value\":0.95},\"fill_alpha\":{\"value\":0.2},\"fill_color\":{\"value\":\"navy\"},\"left\":{\"field\":\"left\"},\"line_alpha\":{\"value\":0.5},\"line_color\":{\"value\":\"white\"},\"right\":{\"field\":\"right\"},\"top\":{\"field\":\"count\"}},\"id\":\"24869\",\"type\":\"Quad\"},{\"attributes\":{},\"id\":\"24794\",\"type\":\"DataRange1d\"},{\"attributes\":{},\"id\":\"24811\",\"type\":\"WheelZoomTool\"},{\"attributes\":{\"bottom\":{\"value\":0.95},\"fill_alpha\":{\"value\":0.5},\"fill_color\":{\"value\":\"navy\"},\"left\":{\"field\":\"left\"},\"line_alpha\":{\"value\":0.5},\"line_color\":{\"value\":\"white\"},\"right\":{\"field\":\"right\"},\"top\":{\"field\":\"count\"}},\"id\":\"24867\",\"type\":\"Quad\"},{\"attributes\":{},\"id\":\"25390\",\"type\":\"Selection\"},{\"attributes\":{\"child\":{\"id\":\"24833\"},\"title\":\"log\"},\"id\":\"24874\",\"type\":\"Panel\"},{\"attributes\":{\"overlay\":{\"id\":\"24816\"}},\"id\":\"24812\",\"type\":\"BoxZoomTool\"},{\"attributes\":{\"callback\":null,\"tooltips\":[[\"#Data files\",\"@f_interval\"],[\"Count\",\"@f_count\"],[\"Percent\",\"@f_percent\"]]},\"id\":\"24830\",\"type\":\"HoverTool\"},{\"attributes\":{},\"id\":\"24852\",\"type\":\"PanTool\"},{\"attributes\":{\"bottom_units\":\"screen\",\"fill_alpha\":0.5,\"fill_color\":\"lightgrey\",\"left_units\":\"screen\",\"level\":\"overlay\",\"line_alpha\":1.0,\"line_color\":\"black\",\"line_dash\":[4,4],\"line_width\":2,\"right_units\":\"screen\",\"top_units\":\"screen\"},\"id\":\"24858\",\"type\":\"BoxAnnotation\"},{\"attributes\":{\"background_fill_color\":\"#fafafa\",\"below\":[{\"id\":\"24844\"}],\"center\":[{\"id\":\"24847\"},{\"id\":\"24851\"}],\"left\":[{\"id\":\"24848\"}],\"renderers\":[{\"id\":\"24870\"}],\"title\":{\"id\":\"24834\"},\"toolbar\":{\"id\":\"24859\"},\"x_range\":{\"id\":\"24836\"},\"x_scale\":{\"id\":\"24840\"},\"y_range\":{\"id\":\"24838\"},\"y_scale\":{\"id\":\"24842\"}},\"id\":\"24833\",\"subtype\":\"Figure\",\"type\":\"Plot\"},{\"attributes\":{},\"id\":\"24796\",\"type\":\"DataRange1d\"},{\"attributes\":{\"active_drag\":\"auto\",\"active_inspect\":\"auto\",\"active_multi\":null,\"active_scroll\":\"auto\",\"active_tap\":\"auto\",\"tools\":[{\"id\":\"24852\"},{\"id\":\"24853\"},{\"id\":\"24854\"},{\"id\":\"24855\"},{\"id\":\"24856\"},{\"id\":\"24857\"},{\"id\":\"24872\"}]},\"id\":\"24859\",\"type\":\"Toolbar\"},{\"attributes\":{},\"id\":\"24813\",\"type\":\"SaveTool\"},{\"attributes\":{\"source\":{\"id\":\"24790\"}},\"id\":\"24871\",\"type\":\"CDSView\"},{\"attributes\":{\"callback\":null,\"tooltips\":[[\"#Data files\",\"@f_interval\"],[\"Count\",\"@f_count\"],[\"Percent\",\"@f_percent\"]]},\"id\":\"24872\",\"type\":\"HoverTool\"},{\"attributes\":{},\"id\":\"24814\",\"type\":\"ResetTool\"},{\"attributes\":{\"bottom\":{\"value\":0.95},\"fill_alpha\":{\"value\":0.1},\"fill_color\":{\"value\":\"navy\"},\"left\":{\"field\":\"left\"},\"line_alpha\":{\"value\":0.1},\"line_color\":{\"value\":\"white\"},\"right\":{\"field\":\"right\"},\"top\":{\"field\":\"count\"}},\"id\":\"24868\",\"type\":\"Quad\"},{\"attributes\":{},\"id\":\"24798\",\"type\":\"LinearScale\"}],\"root_ids\":[\"24875\"]},\"title\":\"Bokeh Application\",\"version\":\"2.1.1\"}};\n",
       "  var render_items = [{\"docid\":\"2d5305b1-9e3d-4d35-b03f-623a0eeb4915\",\"root_ids\":[\"24875\"],\"roots\":{\"24875\":\"cb05507f-7a9e-4d7f-813d-311238179f11\"}}];\n",
       "  root.Bokeh.embed.embed_items_notebook(docs_json, render_items);\n",
       "\n",
       "  }\n",
       "  if (root.Bokeh !== undefined) {\n",
       "    embed_document(root);\n",
       "  } else {\n",
       "    var attempts = 0;\n",
       "    var timer = setInterval(function(root) {\n",
       "      if (root.Bokeh !== undefined) {\n",
       "        clearInterval(timer);\n",
       "        embed_document(root);\n",
       "      } else {\n",
       "        attempts++;\n",
       "        if (attempts > 100) {\n",
       "          clearInterval(timer);\n",
       "          console.log(\"Bokeh: ERROR: Unable to run BokehJS code because BokehJS library is missing\");\n",
       "        }\n",
       "      }\n",
       "    }, 10, root)\n",
       "  }\n",
       "})(window);"
      ],
      "application/vnd.bokehjs_exec.v0+json": ""
     },
     "metadata": {
      "application/vnd.bokehjs_exec.v0+json": {
       "id": "24875"
      }
     },
     "output_type": "display_data"
    }
   ],
   "source": [
    "def interactive_histogram(df,col,n_bins,title,x_axis_label,x_tooltip,log=None):\n",
    "    \"\"\"Plot interactive histogram using bokeh.\n",
    "    \n",
    "    df: pandas dataframe\n",
    "    col: column of panda dataframe to plot (eg. age of users)\n",
    "    n_bins: number of bins, e.g. 9\n",
    "    bin_range: list with min and max value. e.g. [10,100] age of users.\n",
    "    title: title of plot. e.g. 'Airnb Users Age Distribution'\n",
    "    x_axis_label: x axis label. e.g. 'Age (years)'.\n",
    "    x_tooltip: x axis tooltip string. e.g. 'Age'\n",
    "    \n",
    "    \"\"\"\n",
    "    import pandas as pd\n",
    "    import numpy as np\n",
    "    from bokeh.plotting import figure\n",
    "\n",
    "    from bokeh.io import show, output_notebook\n",
    "    from bokeh.models import ColumnDataSource, HoverTool, CategoricalColorMapper\n",
    "    from bokeh.palettes import Category10_5, Category20_16\n",
    "\n",
    "    arr_hist, edges = np.histogram(df,bins=n_bins)\n",
    "\n",
    "    # Column data source\n",
    "    arr_df = pd.DataFrame({'count': arr_hist, 'left': edges[:-1], 'right': edges[1:]})\n",
    "    total = arr_df['count'].sum()\n",
    "    arr_df['f_count'] = ['%d' % count for count in arr_df['count']]\n",
    "    arr_df['f_percent'] = ['%.2f%%' %(count/total*100) for count in arr_df['count']]\n",
    "    arr_df['f_interval'] = ['%d to %d ' % (left, right) for left, right in zip(arr_df['left'], arr_df['right'])]\n",
    "    # column data source\n",
    "    arr_src = ColumnDataSource(arr_df)\n",
    "\n",
    "    # Set up the figure same as before\n",
    "    panels = []\n",
    "    for axis_type in [\"linear\", \"log\"]:\n",
    "        p = figure(y_axis_type=axis_type,\n",
    "                   title = title,\n",
    "                   x_axis_label = x_axis_label, \n",
    "                   y_axis_label = 'Count',\n",
    "                   background_fill_color=\"#fafafa\")\n",
    "        # Add a quad glyph with source this time\n",
    "        p.quad(bottom=0.95, \n",
    "               top='count', \n",
    "               left='left', \n",
    "               right='right', \n",
    "               source=arr_src,\n",
    "               fill_color='navy',\n",
    "               alpha=0.5,\n",
    "#                hover_fill_color='navy',\n",
    "               hover_fill_alpha=0.2,\n",
    "               line_color='white')\n",
    "\n",
    "        # Add style to the plot\n",
    "        p.title.align = 'center'\n",
    "        p.title.text_font_size = '18pt'\n",
    "        p.xaxis.axis_label_text_font_size = '12pt'\n",
    "        p.xaxis.major_label_text_font_size = '12pt'\n",
    "        p.yaxis.axis_label_text_font_size = '12pt'\n",
    "        p.yaxis.major_label_text_font_size = '12pt'\n",
    "        p.grid.grid_line_color=\"white\"\n",
    "\n",
    "        # Add a hover tool referring to the formatted columns\n",
    "        hover = HoverTool(tooltips = [(x_tooltip, '@f_interval'),\n",
    "                                      ('Count', '@f_count'),\n",
    "                                      ('Percent', '@f_percent')])\n",
    "\n",
    "        # Add the hover tool to the graph\n",
    "        p.add_tools(hover)\n",
    "        panel = Panel(child=p, title=axis_type)\n",
    "        panels.append(panel)\n",
    "    tabs = Tabs(tabs=panels)\n",
    "\n",
    "    return tabs\n",
    "\n",
    "output_file('AIA1600_histogram.html')\n",
    "\n",
    "# Show the plot\n",
    "df = counts\n",
    "col = 'age'\n",
    "n_bins = range(0,counts.max(),100)\n",
    "title = 'Histogram for AIA 1600'\n",
    "x_axis_label = 'No. of Data files'\n",
    "x_tooltip = '#Data files'\n",
    "btabs = interactive_histogram(df,col,n_bins,title,x_axis_label,x_tooltip,log='log')\n",
    "show(btabs)"
   ]
  }
 ],
 "metadata": {
  "kernelspec": {
   "display_name": "Python 3",
   "language": "python",
   "name": "python3"
  },
  "language_info": {
   "codemirror_mode": {
    "name": "ipython",
    "version": 3
   },
   "file_extension": ".py",
   "mimetype": "text/x-python",
   "name": "python",
   "nbconvert_exporter": "python",
   "pygments_lexer": "ipython3",
   "version": "3.7.4"
  }
 },
 "nbformat": 4,
 "nbformat_minor": 4
}
