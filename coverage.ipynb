{
 "cells": [
  {
   "cell_type": "code",
   "execution_count": 78,
   "metadata": {},
   "outputs": [],
   "source": [
    "import numpy as np\n",
    "import time\n",
    "import datetime\n",
    "import json\n",
    "import pandas as pd\n",
    "import time\n",
    "\n",
    "import mysql.connector\n",
    "from mysql.connector import Error\n",
    "\n",
    "from bokeh.plotting import *\n",
    "from bokeh.layouts import gridplot\n",
    "from bokeh.models import (Span, ColumnDataSource, LogColorMapper, ColorMapper, LogTicker, ColorBar, BasicTicker, \n",
    "                          LinearColorMapper, PrintfTickFormatter, HoverTool, CategoricalColorMapper, Range1d)\n",
    "from bokeh.models.widgets import Tabs, Panel\n",
    "from bokeh.io import show, output_notebook\n",
    "from bokeh.models.glyphs import Text\n",
    "import bokeh.palettes as bp\n",
    "\n",
    "# import hail as hl\n",
    "\n",
    "import urllib\n",
    "import matplotlib.pyplot as plt\n",
    "from matplotlib.ticker import (MultipleLocator, FormatStrFormatter, AutoMinorLocator)"
   ]
  },
  {
   "cell_type": "code",
   "execution_count": 2,
   "metadata": {},
   "outputs": [],
   "source": [
    "json_url = urllib.request.urlopen('https://api.helioviewer.org/?action=getDataSources')\n",
    "hv_keys = json.loads(json_url.read())"
   ]
  },
  {
   "cell_type": "code",
   "execution_count": 61,
   "metadata": {},
   "outputs": [],
   "source": [
    "obs = 'SDO'\n",
    "instr = 'AIA'\n",
    "wav = '94'\n",
    "sId = 'sourceId'"
   ]
  },
  {
   "cell_type": "code",
   "execution_count": 62,
   "metadata": {
    "scrolled": true
   },
   "outputs": [
    {
     "name": "stdout",
     "output_type": "stream",
     "text": [
      "Total number of rows in data is:  8729086\n",
      "\n",
      "Printing each laptop record\n",
      "MySQL connection is closed 127.1820752620697\n"
     ]
    }
   ],
   "source": [
    "start_time=time.time()\n",
    "try:\n",
    "    connection = mysql.connector.connect(host='localhost',\n",
    "                                         database='hv',\n",
    "                                         user='hv_varun',\n",
    "                                         password='Helioviewer@2020')\n",
    "\n",
    "    sql_select_Query = \"SELECT filepath, date, sourceid FROM data WHERE sourceId=%s;\"%hv_keys[obs][instr][wav][sId]\n",
    "#     sql_select_Query = \"SELECT count(*) FROM data WHERE filepath LIKE '/AIA/1600/%';\"\n",
    "#     sql_select_Query = \"SELECT * FROM data LIMIT 20;\"\n",
    "    cursor = connection.cursor()\n",
    "    cursor.execute(sql_select_Query)\n",
    "    records = cursor.fetchall()\n",
    "    print(\"Total number of rows in data is: \", cursor.rowcount)\n",
    "\n",
    "    print(\"\\nPrinting each laptop record\")\n",
    "#     for row in records:\n",
    "#         print(\"Index = \", row[0])\n",
    "#         print(\"Location = \", row[1])\n",
    "#         print(\"Filename  = \", row[2])\n",
    "#         print(\"OBS_DATE  = \", row[3], \"\\n\")\n",
    "\n",
    "except Error as e:\n",
    "    print(\"Error reading data from MySQL table\", e)\n",
    "finally:\n",
    "    if (connection.is_connected()):\n",
    "        connection.close()\n",
    "        cursor.close()\n",
    "        print(\"MySQL connection is closed\", time.time()-start_time )"
   ]
  },
  {
   "cell_type": "code",
   "execution_count": 63,
   "metadata": {
    "scrolled": false
   },
   "outputs": [
    {
     "data": {
      "text/html": [
       "<div>\n",
       "<style scoped>\n",
       "    .dataframe tbody tr th:only-of-type {\n",
       "        vertical-align: middle;\n",
       "    }\n",
       "\n",
       "    .dataframe tbody tr th {\n",
       "        vertical-align: top;\n",
       "    }\n",
       "\n",
       "    .dataframe thead th {\n",
       "        text-align: right;\n",
       "    }\n",
       "</style>\n",
       "<table border=\"1\" class=\"dataframe\">\n",
       "  <thead>\n",
       "    <tr style=\"text-align: right;\">\n",
       "      <th></th>\n",
       "      <th>filepath</th>\n",
       "      <th>date</th>\n",
       "      <th>sourceid</th>\n",
       "    </tr>\n",
       "  </thead>\n",
       "  <tbody>\n",
       "    <tr>\n",
       "      <th>0</th>\n",
       "      <td>/AIA/94/2010/06/02</td>\n",
       "      <td>2010-06-02 00:05:33</td>\n",
       "      <td>8</td>\n",
       "    </tr>\n",
       "    <tr>\n",
       "      <th>1</th>\n",
       "      <td>/AIA/94/2010/06/02</td>\n",
       "      <td>2010-06-02 00:05:45</td>\n",
       "      <td>8</td>\n",
       "    </tr>\n",
       "    <tr>\n",
       "      <th>2</th>\n",
       "      <td>/AIA/94/2010/06/02</td>\n",
       "      <td>2010-06-02 00:05:57</td>\n",
       "      <td>8</td>\n",
       "    </tr>\n",
       "    <tr>\n",
       "      <th>3</th>\n",
       "      <td>/AIA/94/2010/06/02</td>\n",
       "      <td>2010-06-02 00:06:21</td>\n",
       "      <td>8</td>\n",
       "    </tr>\n",
       "    <tr>\n",
       "      <th>4</th>\n",
       "      <td>/AIA/94/2010/06/18</td>\n",
       "      <td>2010-06-18 00:00:20</td>\n",
       "      <td>8</td>\n",
       "    </tr>\n",
       "    <tr>\n",
       "      <th>...</th>\n",
       "      <td>...</td>\n",
       "      <td>...</td>\n",
       "      <td>...</td>\n",
       "    </tr>\n",
       "    <tr>\n",
       "      <th>8729081</th>\n",
       "      <td>/AIA/2020/08/03/94</td>\n",
       "      <td>2020-08-03 14:08:47</td>\n",
       "      <td>8</td>\n",
       "    </tr>\n",
       "    <tr>\n",
       "      <th>8729082</th>\n",
       "      <td>/AIA/2020/08/03/94</td>\n",
       "      <td>2020-08-03 14:09:23</td>\n",
       "      <td>8</td>\n",
       "    </tr>\n",
       "    <tr>\n",
       "      <th>8729083</th>\n",
       "      <td>/AIA/2020/08/03/94</td>\n",
       "      <td>2020-08-03 14:09:59</td>\n",
       "      <td>8</td>\n",
       "    </tr>\n",
       "    <tr>\n",
       "      <th>8729084</th>\n",
       "      <td>/AIA/2020/08/03/94</td>\n",
       "      <td>2020-08-03 14:10:35</td>\n",
       "      <td>8</td>\n",
       "    </tr>\n",
       "    <tr>\n",
       "      <th>8729085</th>\n",
       "      <td>/AIA/2020/08/03/94</td>\n",
       "      <td>2020-08-03 14:11:11</td>\n",
       "      <td>8</td>\n",
       "    </tr>\n",
       "  </tbody>\n",
       "</table>\n",
       "<p>8729086 rows × 3 columns</p>\n",
       "</div>"
      ],
      "text/plain": [
       "                   filepath                date  sourceid\n",
       "0        /AIA/94/2010/06/02 2010-06-02 00:05:33         8\n",
       "1        /AIA/94/2010/06/02 2010-06-02 00:05:45         8\n",
       "2        /AIA/94/2010/06/02 2010-06-02 00:05:57         8\n",
       "3        /AIA/94/2010/06/02 2010-06-02 00:06:21         8\n",
       "4        /AIA/94/2010/06/18 2010-06-18 00:00:20         8\n",
       "...                     ...                 ...       ...\n",
       "8729081  /AIA/2020/08/03/94 2020-08-03 14:08:47         8\n",
       "8729082  /AIA/2020/08/03/94 2020-08-03 14:09:23         8\n",
       "8729083  /AIA/2020/08/03/94 2020-08-03 14:09:59         8\n",
       "8729084  /AIA/2020/08/03/94 2020-08-03 14:10:35         8\n",
       "8729085  /AIA/2020/08/03/94 2020-08-03 14:11:11         8\n",
       "\n",
       "[8729086 rows x 3 columns]"
      ]
     },
     "execution_count": 63,
     "metadata": {},
     "output_type": "execute_result"
    }
   ],
   "source": [
    "hv = pd.DataFrame(records, columns=cursor.column_names)\n",
    "hv = hv.sort_values('date').reset_index(drop=True)\n",
    "hv"
   ]
  },
  {
   "cell_type": "markdown",
   "metadata": {},
   "source": [
    "# Coverage"
   ]
  },
  {
   "cell_type": "code",
   "execution_count": null,
   "metadata": {},
   "outputs": [],
   "source": [
    "day_bins = pd.date_range(hv['date'].min().replace(day=1), (hv['date'].max() + pd.DateOffset(months=1)).replace(day=1) , freq='D').to_period('D').to_timestamp()\n",
    "day_bins"
   ]
  },
  {
   "cell_type": "code",
   "execution_count": null,
   "metadata": {
    "scrolled": true
   },
   "outputs": [],
   "source": [
    "counts, bins = np.histogram(hv['date'], bins = day_bins)#.size+1, range=(day_bins[0], day_bins[-1]))"
   ]
  },
  {
   "cell_type": "code",
   "execution_count": null,
   "metadata": {},
   "outputs": [],
   "source": [
    "month_bins = pd.date_range(day_bins.min(), day_bins.max(), freq='M').to_period('M').to_timestamp()\n",
    "month_bins"
   ]
  },
  {
   "cell_type": "code",
   "execution_count": null,
   "metadata": {
    "scrolled": true
   },
   "outputs": [],
   "source": [
    "n_days = 31\n",
    "n_months = month_bins.size # ((day_bins[-1].year-day_bins[0].year)*12 + (day_bins[-1].month-day_bins[0].month)+1)\n",
    "year_month = month_bins.year.astype(str) + ' ' + month_bins.month_name()# (year.year+year.month/12)#.astype(str)\n",
    "hv_cov = pd.DataFrame(data=[[np.nan]*n_days]*n_months, index = year_month, columns=np.arange(1,32).astype(str))\n",
    "hv_cov.index.name='Year'\n",
    "hv_cov.columns.name = 'Date'\n",
    "hv_cov"
   ]
  },
  {
   "cell_type": "code",
   "execution_count": null,
   "metadata": {
    "scrolled": true
   },
   "outputs": [],
   "source": [
    "idx_month_end = pd.Series(day_bins)[pd.Series(day_bins).dt.is_month_start].index\n",
    "idx_month_end = idx_month_end.union(pd.Index([0]))\n",
    "idx_month_end"
   ]
  },
  {
   "cell_type": "code",
   "execution_count": null,
   "metadata": {},
   "outputs": [],
   "source": [
    "counts[(day_bins[:-1]<hv['date'].min()-pd.DateOffset(days=1)) | (day_bins[:-1]>hv['date'].max())] = -1"
   ]
  },
  {
   "cell_type": "code",
   "execution_count": null,
   "metadata": {},
   "outputs": [],
   "source": [
    "tot=0\n",
    "for i in range(idx_month_end.size-1):\n",
    "    hv_cov.iloc[i][:idx_month_end[i+1]-idx_month_end[i]] = counts[idx_month_end[i]:idx_month_end[i+1]]\n",
    "hv_cov[hv_cov<0] = np.nan"
   ]
  },
  {
   "cell_type": "code",
   "execution_count": null,
   "metadata": {
    "scrolled": true
   },
   "outputs": [],
   "source": [
    "hv_cov"
   ]
  },
  {
   "cell_type": "code",
   "execution_count": null,
   "metadata": {
    "scrolled": true
   },
   "outputs": [],
   "source": [
    "df = pd.DataFrame(hv_cov.stack(dropna=False), columns=['coverage']).reset_index()\n",
    "df['Year']=df['Year'].astype(str)\n",
    "\n",
    "years = hv_cov.index.values#.astype(str)\n",
    "dates = hv_cov.columns.values.astype(str)\n",
    "\n",
    "colors = bp.Viridis[256]# [\"#75968f\", \"#a5bab7\", \"#c9d9d3\", \"#e2e2e2\", \"#dfccce\", \"#ddb7b1\", \"#cc7878\", \"#933b41\", \"#550b1d\"]\n",
    "mapper = LinearColorMapper(palette=colors, low=np.nanmin(df.coverage), high=np.nanmax(df.coverage))\n",
    "\n",
    "TOOLS = \"hover,save,pan,box_zoom,reset,wheel_zoom\"\n",
    "\n",
    "# output_file('AIA1600_coverage.html')\n",
    "p = figure(title=\"AIA 1600 Coverage ({0} - {1})\".format(years[0], years[-1]),\n",
    "#            x_axis_type='datetime',\n",
    "           x_range=years, y_range=list(reversed(dates)),\n",
    "           x_axis_location=\"above\", plot_width=1400, plot_height=800,\n",
    "           x_axis_label=\"Year Month\", y_axis_label=\"Date\",\n",
    "           tooltips=[('Date', '@Year @Date'), ('#Data Files', '@coverage')],\n",
    "           tools=TOOLS, toolbar_location='below')\n",
    "\n",
    "# p.grid.grid_line_color = None\n",
    "p.axis.axis_line_color = None\n",
    "p.axis.major_tick_line_color = None\n",
    "p.axis.major_label_text_font_size = \"7px\"\n",
    "p.axis.major_label_standoff = 0\n",
    "p.xaxis.major_label_orientation = np.pi / 3\n",
    "p.xaxis.axis_label_text_font_size = \"12pt\"\n",
    "p.yaxis.axis_label_text_font_size = \"12pt\"\n",
    "p.xaxis.visible = True\n",
    "p.xgrid.visible = True\n",
    "\n",
    "p.xaxis.major_label_text_font_size = \"7pt\"\n",
    "p.yaxis.major_label_text_font_size = \"8pt\"\n",
    "\n",
    "\n",
    "p.rect(x=\"Year\", y=\"Date\", width=1, height=1,\n",
    "       source=df,\n",
    "       fill_color={'field': 'coverage', 'transform': mapper},\n",
    "       line_color=None)\n",
    "\n",
    "color_bar = ColorBar(color_mapper=mapper, major_label_text_font_size=\"10px\",\n",
    "                     ticker=BasicTicker(desired_num_ticks=10),\n",
    "                     formatter=PrintfTickFormatter(format=\"%d\"),\n",
    "                     label_standoff=6, border_line_color=None, location=(0, 0))\n",
    "p.add_layout(color_bar, 'right')\n",
    "output_file('AIA94_coverage.html')\n",
    "show(p)"
   ]
  },
  {
   "cell_type": "markdown",
   "metadata": {},
   "source": [
    "# Histogram"
   ]
  },
  {
   "cell_type": "code",
   "execution_count": null,
   "metadata": {},
   "outputs": [],
   "source": []
  },
  {
   "cell_type": "code",
   "execution_count": 147,
   "metadata": {
    "scrolled": true
   },
   "outputs": [],
   "source": [
    "def interactive_histogram(df, n_bins, title, x_axis_label, x_tooltip, log=None):\n",
    "\n",
    "    arr_hist, edges = np.histogram(df, bins=n_bins)\n",
    "\n",
    "    # Column data source\n",
    "    df_hist = pd.DataFrame({'count': arr_hist, 'left': edges[:-1], 'right': edges[1:]})\n",
    "    total = df_hist['count'].sum()\n",
    "    df_hist['f_count'] = ['%d' % count for count in df_hist['count']]\n",
    "    df_hist['f_percent'] = ['%.2f%%' %(count/total*100) for count in df_hist['count']]\n",
    "    df_hist['f_interval'] = ['%d to %d ' % (left, right) for left, right in zip(df_hist['left'], df_hist['right'])]\n",
    "    # column data source\n",
    "    hist_src = ColumnDataSource(df_hist)\n",
    "    \n",
    "    #cumulative data\n",
    "    cumulative_data = np.cumsum(arr_hist)\n",
    "    x_bins = np.arange(0,df.max(),100)[1:]\n",
    "    df_cum = pd.DataFrame({'count_cum': cumulative_data, 'x': x_bins})\n",
    "    cum_src = ColumnDataSource(df_cum)\n",
    "#     df_hist['f_count'] = np.log10(df_hist['f_count']+1)\n",
    "    # Set up the figure same as before\n",
    "    panels = []\n",
    "    for axis_type in [\"linear\", \"log\"]:\n",
    "        p = figure(y_axis_type = axis_type,\n",
    "                   title = title,\n",
    "                   x_axis_label = x_axis_label, \n",
    "                   y_axis_label = 'Day count',\n",
    "                   background_fill_color=\"#fafafa\",\n",
    "                   y_range = (0.9,df_hist['count'].max() + 100))\n",
    "        # Add a quad glyph with source this time\n",
    "        p.quad(bottom=0.9,\n",
    "               top='count', \n",
    "               left='left', \n",
    "               right='right', \n",
    "               source=hist_src,\n",
    "               fill_color='navy',\n",
    "               alpha=0.5,\n",
    "#                hover_fill_color='navy',\n",
    "               hover_fill_alpha=0.2,\n",
    "               line_color='white',\n",
    "               legend='Histogram')\n",
    "#         p.y_range(Range1d(0.8,df_hist['count'].max()))\n",
    "        # Add style to the plot\n",
    "        p.title.align = 'center'\n",
    "        p.title.text_font_size = '18pt'\n",
    "        p.xaxis.axis_label_text_font_size = '12pt'\n",
    "        p.xaxis.major_label_text_font_size = '12pt'\n",
    "        p.yaxis.axis_label_text_font_size = '12pt'\n",
    "        p.yaxis.major_label_text_font_size = '12pt'\n",
    "        p.add_layout(Span(location=1800, dimension='height'))#, legend='Expected date file count'))\n",
    "        p.legend.location = \"top_left\"\n",
    "#         p.grid.grid_line_color=\"white\"\n",
    "        \n",
    "        text_source = ColumnDataSource(dict(x=[x_bins.max()*3/4],y=[df_hist['count'].max()*3/4],text=['Total Day Count = \\n %d'%total]))\n",
    "        glyph = Text(x=\"x\", y=\"y\", text=\"text\", text_color=\"black\")\n",
    "        p.add_glyph(text_source, glyph)\n",
    "        # Add a hover tool referring to the formatted columns\n",
    "        hover = HoverTool(tooltips = [(x_tooltip, '@f_interval'),\n",
    "                                      ('Day count', '@f_count'),\n",
    "                                      ('Day count percentage', '@f_percent')])\n",
    "\n",
    "        # Add the hover tool to the graph\n",
    "        p.add_tools(hover)\n",
    "\n",
    "        \n",
    "        p2 = figure(y_axis_type=axis_type,\n",
    "                   title = title,\n",
    "                   x_axis_label = x_axis_label, \n",
    "                   y_axis_label = 'Day count',\n",
    "                   background_fill_color=\"#fafafa\")\n",
    "        \n",
    "        p2.line(x='x', y='count_cum', line_color='#036564', line_width=3, source=cum_src, hover_line_alpha=0.5, legend=\"Cumulative distribution\")\n",
    "        p2.circle(x='x', y='count_cum', line_color='#036564', line_width=5, source=cum_src, legend=\"Cumulative distribution\" )\n",
    "        hover = HoverTool(line_policy='nearest', tooltips = [(x_tooltip, '@x'), ('Cumulative Day count', '@count_cum')])\n",
    "        \n",
    "        p2.add_layout(Span(location=1800, dimension='height'))#, legend='Expected date file count'))\n",
    "        # Add the hover tool to the graph\n",
    "        p2.add_tools(hover)\n",
    "        p2.title.align = 'center'\n",
    "        p2.title.text_font_size = '18pt'\n",
    "        p2.xaxis.axis_label_text_font_size = '12pt'\n",
    "        p2.xaxis.major_label_text_font_size = '12pt'\n",
    "        p2.yaxis.axis_label_text_font_size = '12pt'\n",
    "        p2.yaxis.major_label_text_font_size = '12pt'\n",
    "        p2.legend.location = \"top_left\"\n",
    "        \n",
    "        \n",
    "        grid = gridplot([[p, p2]])#, plot_width=250, plot_height=250)\n",
    "        panel = Panel(child=grid, title=axis_type)\n",
    "        panels.append(panel)\n",
    "    tabs = Tabs(tabs=panels)\n",
    "\n",
    "    return tabs"
   ]
  },
  {
   "cell_type": "code",
   "execution_count": 125,
   "metadata": {},
   "outputs": [],
   "source": [
    "day_bins = pd.date_range(hv['date'].min().floor('D'), hv['date'].max()+pd.DateOffset(days=1), freq='D').to_period('D').to_timestamp()"
   ]
  },
  {
   "cell_type": "code",
   "execution_count": 126,
   "metadata": {},
   "outputs": [
    {
     "data": {
      "text/plain": [
       "DatetimeIndex(['2010-06-02', '2010-06-03', '2010-06-04', '2010-06-05',\n",
       "               '2010-06-06', '2010-06-07', '2010-06-08', '2010-06-09',\n",
       "               '2010-06-10', '2010-06-11',\n",
       "               ...\n",
       "               '2020-07-26', '2020-07-27', '2020-07-28', '2020-07-29',\n",
       "               '2020-07-30', '2020-07-31', '2020-08-01', '2020-08-02',\n",
       "               '2020-08-03', '2020-08-04'],\n",
       "              dtype='datetime64[ns]', length=3717, freq='D')"
      ]
     },
     "execution_count": 126,
     "metadata": {},
     "output_type": "execute_result"
    }
   ],
   "source": [
    "day_bins"
   ]
  },
  {
   "cell_type": "code",
   "execution_count": 127,
   "metadata": {},
   "outputs": [],
   "source": [
    "counts, bins = np.histogram(hv['date'], bins = day_bins)#.size+1, range=(day_bins[0], day_bins[-1]))\n",
    "# hist, edges = np.histogram(counts, bins=range(0,counts.max(),100))"
   ]
  },
  {
   "cell_type": "code",
   "execution_count": 148,
   "metadata": {
    "scrolled": true
   },
   "outputs": [],
   "source": [
    "output_file('AIA94_histogram.html')\n",
    "\n",
    "df = counts\n",
    "n_bins = range(0,counts.max(),100)\n",
    "title = 'Histogram for AIA 94'\n",
    "x_axis_label = 'No. of Data files'\n",
    "x_tooltip = '#Data files'\n",
    "btabs = interactive_histogram(df,n_bins,title,x_axis_label,x_tooltip,log='log')\n",
    "show(btabs)"
   ]
  },
  {
   "cell_type": "code",
   "execution_count": null,
   "metadata": {},
   "outputs": [],
   "source": []
  },
  {
   "cell_type": "code",
   "execution_count": null,
   "metadata": {},
   "outputs": [],
   "source": []
  },
  {
   "cell_type": "code",
   "execution_count": null,
   "metadata": {},
   "outputs": [],
   "source": []
  }
 ],
 "metadata": {
  "kernelspec": {
   "display_name": "Python 3",
   "language": "python",
   "name": "python3"
  },
  "language_info": {
   "codemirror_mode": {
    "name": "ipython",
    "version": 3
   },
   "file_extension": ".py",
   "mimetype": "text/x-python",
   "name": "python",
   "nbconvert_exporter": "python",
   "pygments_lexer": "ipython3",
   "version": "3.7.4"
  }
 },
 "nbformat": 4,
 "nbformat_minor": 4
}
